{
 "cells": [
  {
   "cell_type": "markdown",
   "id": "equivalent-candle",
   "metadata": {
    "papermill": {
     "duration": 0.053028,
     "end_time": "2022-05-27T07:24:20.521162",
     "exception": false,
     "start_time": "2022-05-27T07:24:20.468134",
     "status": "completed"
    },
    "tags": []
   },
   "source": [
    "# Doğrusal Regresyon Egzersizleri"
   ]
  },
  {
   "cell_type": "markdown",
   "id": "unavailable-opening",
   "metadata": {
    "papermill": {
     "duration": 0.048279,
     "end_time": "2022-05-27T07:24:20.619093",
     "exception": false,
     "start_time": "2022-05-27T07:24:20.570814",
     "status": "completed"
    },
    "tags": []
   },
   "source": [
    "50 adet Startup'ın araştırma ve geliştirmeye yönelik harcaması, yönetime yönelik harcaması, pazarlama harcaması, kazandıkları kar miktarı ve kuruldukları lokasyon bilgisi bulunmaktadır. Amaç kar miktarını tahmin etmektir. Bu bir sayısal tahmin problemidir ve bağımlı değişkenimiz \"Profit\"."
   ]
  },
  {
   "cell_type": "markdown",
   "id": "charitable-puppy",
   "metadata": {
    "papermill": {
     "duration": 0.048173,
     "end_time": "2022-05-27T07:24:20.716072",
     "exception": false,
     "start_time": "2022-05-27T07:24:20.667899",
     "status": "completed"
    },
    "tags": []
   },
   "source": [
    "Numpy, matplotlib.pyplot, pandas ve seaborn kütüphanelerini çekirdeğe dahil edelim."
   ]
  },
  {
   "cell_type": "code",
   "execution_count": 1,
   "id": "personal-dollar",
   "metadata": {
    "execution": {
     "iopub.execute_input": "2022-05-27T07:24:20.828541Z",
     "iopub.status.busy": "2022-05-27T07:24:20.827802Z",
     "iopub.status.idle": "2022-05-27T07:24:21.779546Z",
     "shell.execute_reply": "2022-05-27T07:24:21.778761Z",
     "shell.execute_reply.started": "2022-05-09T17:49:32.110656Z"
    },
    "papermill": {
     "duration": 1.014865,
     "end_time": "2022-05-27T07:24:21.779926",
     "exception": false,
     "start_time": "2022-05-27T07:24:20.765061",
     "status": "completed"
    },
    "tags": []
   },
   "outputs": [],
   "source": [
    "import numpy as np\n",
    "import matplotlib.pyplot as plt\n",
    "import pandas as pd\n",
    "import seaborn as sns\n",
    "import warnings\n",
    "warnings.filterwarnings(\"ignore\")"
   ]
  },
  {
   "cell_type": "markdown",
   "id": "charitable-dynamics",
   "metadata": {
    "papermill": {
     "duration": 0.04874,
     "end_time": "2022-05-27T07:24:21.877156",
     "exception": false,
     "start_time": "2022-05-27T07:24:21.828416",
     "status": "completed"
    },
    "tags": []
   },
   "source": [
    "Dizinde bulunan veri çerçevemizi startups değişkenine atayalım. startups değişkenini df değişkenine kopyalayarak kullanmaya başlayalım."
   ]
  },
  {
   "cell_type": "code",
   "execution_count": 2,
   "id": "related-inquiry",
   "metadata": {
    "execution": {
     "iopub.execute_input": "2022-05-27T07:24:21.980013Z",
     "iopub.status.busy": "2022-05-27T07:24:21.979328Z",
     "iopub.status.idle": "2022-05-27T07:24:21.993834Z",
     "shell.execute_reply": "2022-05-27T07:24:21.993214Z",
     "shell.execute_reply.started": "2022-05-09T17:49:32.544067Z"
    },
    "papermill": {
     "duration": 0.068234,
     "end_time": "2022-05-27T07:24:21.993997",
     "exception": false,
     "start_time": "2022-05-27T07:24:21.925763",
     "status": "completed"
    },
    "tags": []
   },
   "outputs": [],
   "source": [
    "startups = pd.read_csv('../input/50-startups/50_Startups.csv')\n",
    "df = startups"
   ]
  },
  {
   "cell_type": "markdown",
   "id": "knowing-colorado",
   "metadata": {
    "papermill": {
     "duration": 0.048269,
     "end_time": "2022-05-27T07:24:22.093347",
     "exception": false,
     "start_time": "2022-05-27T07:24:22.045078",
     "status": "completed"
    },
    "tags": []
   },
   "source": [
    "İlk 5 gözlemini yazdıralım."
   ]
  },
  {
   "cell_type": "code",
   "execution_count": 3,
   "id": "literary-socket",
   "metadata": {
    "execution": {
     "iopub.execute_input": "2022-05-27T07:24:22.200474Z",
     "iopub.status.busy": "2022-05-27T07:24:22.199318Z",
     "iopub.status.idle": "2022-05-27T07:24:22.224284Z",
     "shell.execute_reply": "2022-05-27T07:24:22.224796Z",
     "shell.execute_reply.started": "2022-05-09T17:49:32.86558Z"
    },
    "papermill": {
     "duration": 0.083048,
     "end_time": "2022-05-27T07:24:22.224970",
     "exception": false,
     "start_time": "2022-05-27T07:24:22.141922",
     "status": "completed"
    },
    "tags": []
   },
   "outputs": [
    {
     "data": {
      "text/html": [
       "<div>\n",
       "<style scoped>\n",
       "    .dataframe tbody tr th:only-of-type {\n",
       "        vertical-align: middle;\n",
       "    }\n",
       "\n",
       "    .dataframe tbody tr th {\n",
       "        vertical-align: top;\n",
       "    }\n",
       "\n",
       "    .dataframe thead th {\n",
       "        text-align: right;\n",
       "    }\n",
       "</style>\n",
       "<table border=\"1\" class=\"dataframe\">\n",
       "  <thead>\n",
       "    <tr style=\"text-align: right;\">\n",
       "      <th></th>\n",
       "      <th>R&amp;D Spend</th>\n",
       "      <th>Administration</th>\n",
       "      <th>Marketing Spend</th>\n",
       "      <th>State</th>\n",
       "      <th>Profit</th>\n",
       "    </tr>\n",
       "  </thead>\n",
       "  <tbody>\n",
       "    <tr>\n",
       "      <th>0</th>\n",
       "      <td>165349.20</td>\n",
       "      <td>136897.80</td>\n",
       "      <td>471784.10</td>\n",
       "      <td>New York</td>\n",
       "      <td>192261.83</td>\n",
       "    </tr>\n",
       "    <tr>\n",
       "      <th>1</th>\n",
       "      <td>162597.70</td>\n",
       "      <td>151377.59</td>\n",
       "      <td>443898.53</td>\n",
       "      <td>California</td>\n",
       "      <td>191792.06</td>\n",
       "    </tr>\n",
       "    <tr>\n",
       "      <th>2</th>\n",
       "      <td>153441.51</td>\n",
       "      <td>101145.55</td>\n",
       "      <td>407934.54</td>\n",
       "      <td>Florida</td>\n",
       "      <td>191050.39</td>\n",
       "    </tr>\n",
       "    <tr>\n",
       "      <th>3</th>\n",
       "      <td>144372.41</td>\n",
       "      <td>118671.85</td>\n",
       "      <td>383199.62</td>\n",
       "      <td>New York</td>\n",
       "      <td>182901.99</td>\n",
       "    </tr>\n",
       "    <tr>\n",
       "      <th>4</th>\n",
       "      <td>142107.34</td>\n",
       "      <td>91391.77</td>\n",
       "      <td>366168.42</td>\n",
       "      <td>Florida</td>\n",
       "      <td>166187.94</td>\n",
       "    </tr>\n",
       "  </tbody>\n",
       "</table>\n",
       "</div>"
      ],
      "text/plain": [
       "   R&D Spend  Administration  Marketing Spend       State     Profit\n",
       "0  165349.20       136897.80        471784.10    New York  192261.83\n",
       "1  162597.70       151377.59        443898.53  California  191792.06\n",
       "2  153441.51       101145.55        407934.54     Florida  191050.39\n",
       "3  144372.41       118671.85        383199.62    New York  182901.99\n",
       "4  142107.34        91391.77        366168.42     Florida  166187.94"
      ]
     },
     "execution_count": 3,
     "metadata": {},
     "output_type": "execute_result"
    }
   ],
   "source": [
    "df.head()"
   ]
  },
  {
   "cell_type": "markdown",
   "id": "fancy-messaging",
   "metadata": {
    "papermill": {
     "duration": 0.048466,
     "end_time": "2022-05-27T07:24:22.323859",
     "exception": false,
     "start_time": "2022-05-27T07:24:22.275393",
     "status": "completed"
    },
    "tags": []
   },
   "source": [
    "Veri çerçevesinin bilgilerini görüntüleyelim."
   ]
  },
  {
   "cell_type": "code",
   "execution_count": 4,
   "id": "significant-toolbox",
   "metadata": {
    "execution": {
     "iopub.execute_input": "2022-05-27T07:24:22.426741Z",
     "iopub.status.busy": "2022-05-27T07:24:22.425867Z",
     "iopub.status.idle": "2022-05-27T07:24:22.448156Z",
     "shell.execute_reply": "2022-05-27T07:24:22.447608Z",
     "shell.execute_reply.started": "2022-05-09T17:49:33.170063Z"
    },
    "papermill": {
     "duration": 0.075848,
     "end_time": "2022-05-27T07:24:22.448292",
     "exception": false,
     "start_time": "2022-05-27T07:24:22.372444",
     "status": "completed"
    },
    "tags": []
   },
   "outputs": [
    {
     "name": "stdout",
     "output_type": "stream",
     "text": [
      "<class 'pandas.core.frame.DataFrame'>\n",
      "RangeIndex: 50 entries, 0 to 49\n",
      "Data columns (total 5 columns):\n",
      " #   Column           Non-Null Count  Dtype  \n",
      "---  ------           --------------  -----  \n",
      " 0   R&D Spend        50 non-null     float64\n",
      " 1   Administration   50 non-null     float64\n",
      " 2   Marketing Spend  50 non-null     float64\n",
      " 3   State            50 non-null     object \n",
      " 4   Profit           50 non-null     float64\n",
      "dtypes: float64(4), object(1)\n",
      "memory usage: 2.1+ KB\n"
     ]
    }
   ],
   "source": [
    "df.info()"
   ]
  },
  {
   "cell_type": "markdown",
   "id": "cloudy-heating",
   "metadata": {
    "papermill": {
     "duration": 0.049596,
     "end_time": "2022-05-27T07:24:22.548300",
     "exception": false,
     "start_time": "2022-05-27T07:24:22.498704",
     "status": "completed"
    },
    "tags": []
   },
   "source": [
    "Kaç gözlem ve öznitelikten oluştuğunu görüntüleyelim."
   ]
  },
  {
   "cell_type": "code",
   "execution_count": 5,
   "id": "structural-attachment",
   "metadata": {
    "execution": {
     "iopub.execute_input": "2022-05-27T07:24:22.653589Z",
     "iopub.status.busy": "2022-05-27T07:24:22.652991Z",
     "iopub.status.idle": "2022-05-27T07:24:22.657227Z",
     "shell.execute_reply": "2022-05-27T07:24:22.657738Z",
     "shell.execute_reply.started": "2022-05-09T17:49:33.492233Z"
    },
    "papermill": {
     "duration": 0.058472,
     "end_time": "2022-05-27T07:24:22.657906",
     "exception": false,
     "start_time": "2022-05-27T07:24:22.599434",
     "status": "completed"
    },
    "tags": []
   },
   "outputs": [
    {
     "data": {
      "text/plain": [
       "(50, 5)"
      ]
     },
     "execution_count": 5,
     "metadata": {},
     "output_type": "execute_result"
    }
   ],
   "source": [
    "df.shape"
   ]
  },
  {
   "cell_type": "markdown",
   "id": "retired-tackle",
   "metadata": {
    "papermill": {
     "duration": 0.049567,
     "end_time": "2022-05-27T07:24:22.757532",
     "exception": false,
     "start_time": "2022-05-27T07:24:22.707965",
     "status": "completed"
    },
    "tags": []
   },
   "source": [
    "Eksik verileri kontrol edelim."
   ]
  },
  {
   "cell_type": "code",
   "execution_count": 6,
   "id": "moderate-sheet",
   "metadata": {
    "execution": {
     "iopub.execute_input": "2022-05-27T07:24:22.864436Z",
     "iopub.status.busy": "2022-05-27T07:24:22.863566Z",
     "iopub.status.idle": "2022-05-27T07:24:22.869138Z",
     "shell.execute_reply": "2022-05-27T07:24:22.869686Z",
     "shell.execute_reply.started": "2022-05-09T17:49:33.80669Z"
    },
    "papermill": {
     "duration": 0.062192,
     "end_time": "2022-05-27T07:24:22.869870",
     "exception": false,
     "start_time": "2022-05-27T07:24:22.807678",
     "status": "completed"
    },
    "tags": []
   },
   "outputs": [
    {
     "data": {
      "text/plain": [
       "R&D Spend          0\n",
       "Administration     0\n",
       "Marketing Spend    0\n",
       "State              0\n",
       "Profit             0\n",
       "dtype: int64"
      ]
     },
     "execution_count": 6,
     "metadata": {},
     "output_type": "execute_result"
    }
   ],
   "source": [
    "df.isnull().sum()"
   ]
  },
  {
   "cell_type": "markdown",
   "id": "acquired-barcelona",
   "metadata": {
    "papermill": {
     "duration": 0.050222,
     "end_time": "2022-05-27T07:24:22.971436",
     "exception": false,
     "start_time": "2022-05-27T07:24:22.921214",
     "status": "completed"
    },
    "tags": []
   },
   "source": [
    "Korelasyon matrisi çizdirelim."
   ]
  },
  {
   "cell_type": "code",
   "execution_count": 7,
   "id": "noted-bibliography",
   "metadata": {
    "execution": {
     "iopub.execute_input": "2022-05-27T07:24:23.077005Z",
     "iopub.status.busy": "2022-05-27T07:24:23.076139Z",
     "iopub.status.idle": "2022-05-27T07:24:23.088853Z",
     "shell.execute_reply": "2022-05-27T07:24:23.089322Z",
     "shell.execute_reply.started": "2022-05-09T17:49:34.121348Z"
    },
    "papermill": {
     "duration": 0.066951,
     "end_time": "2022-05-27T07:24:23.089483",
     "exception": false,
     "start_time": "2022-05-27T07:24:23.022532",
     "status": "completed"
    },
    "tags": []
   },
   "outputs": [
    {
     "data": {
      "text/html": [
       "<div>\n",
       "<style scoped>\n",
       "    .dataframe tbody tr th:only-of-type {\n",
       "        vertical-align: middle;\n",
       "    }\n",
       "\n",
       "    .dataframe tbody tr th {\n",
       "        vertical-align: top;\n",
       "    }\n",
       "\n",
       "    .dataframe thead th {\n",
       "        text-align: right;\n",
       "    }\n",
       "</style>\n",
       "<table border=\"1\" class=\"dataframe\">\n",
       "  <thead>\n",
       "    <tr style=\"text-align: right;\">\n",
       "      <th></th>\n",
       "      <th>R&amp;D Spend</th>\n",
       "      <th>Administration</th>\n",
       "      <th>Marketing Spend</th>\n",
       "      <th>Profit</th>\n",
       "    </tr>\n",
       "  </thead>\n",
       "  <tbody>\n",
       "    <tr>\n",
       "      <th>R&amp;D Spend</th>\n",
       "      <td>1.000000</td>\n",
       "      <td>0.241955</td>\n",
       "      <td>0.724248</td>\n",
       "      <td>0.972900</td>\n",
       "    </tr>\n",
       "    <tr>\n",
       "      <th>Administration</th>\n",
       "      <td>0.241955</td>\n",
       "      <td>1.000000</td>\n",
       "      <td>-0.032154</td>\n",
       "      <td>0.200717</td>\n",
       "    </tr>\n",
       "    <tr>\n",
       "      <th>Marketing Spend</th>\n",
       "      <td>0.724248</td>\n",
       "      <td>-0.032154</td>\n",
       "      <td>1.000000</td>\n",
       "      <td>0.747766</td>\n",
       "    </tr>\n",
       "    <tr>\n",
       "      <th>Profit</th>\n",
       "      <td>0.972900</td>\n",
       "      <td>0.200717</td>\n",
       "      <td>0.747766</td>\n",
       "      <td>1.000000</td>\n",
       "    </tr>\n",
       "  </tbody>\n",
       "</table>\n",
       "</div>"
      ],
      "text/plain": [
       "                 R&D Spend  Administration  Marketing Spend    Profit\n",
       "R&D Spend         1.000000        0.241955         0.724248  0.972900\n",
       "Administration    0.241955        1.000000        -0.032154  0.200717\n",
       "Marketing Spend   0.724248       -0.032154         1.000000  0.747766\n",
       "Profit            0.972900        0.200717         0.747766  1.000000"
      ]
     },
     "execution_count": 7,
     "metadata": {},
     "output_type": "execute_result"
    }
   ],
   "source": [
    "df.corr()"
   ]
  },
  {
   "cell_type": "markdown",
   "id": "differential-secretariat",
   "metadata": {
    "papermill": {
     "duration": 0.050103,
     "end_time": "2022-05-27T07:24:23.191096",
     "exception": false,
     "start_time": "2022-05-27T07:24:23.140993",
     "status": "completed"
    },
    "tags": []
   },
   "source": [
    "Seaborn ile korelasyon matrisinin ısı haritasını çizdirelim."
   ]
  },
  {
   "cell_type": "code",
   "execution_count": 8,
   "id": "ruled-paraguay",
   "metadata": {
    "execution": {
     "iopub.execute_input": "2022-05-27T07:24:23.294783Z",
     "iopub.status.busy": "2022-05-27T07:24:23.293941Z",
     "iopub.status.idle": "2022-05-27T07:24:23.594867Z",
     "shell.execute_reply": "2022-05-27T07:24:23.595422Z",
     "shell.execute_reply.started": "2022-05-09T17:49:34.531574Z"
    },
    "papermill": {
     "duration": 0.354105,
     "end_time": "2022-05-27T07:24:23.595587",
     "exception": false,
     "start_time": "2022-05-27T07:24:23.241482",
     "status": "completed"
    },
    "tags": []
   },
   "outputs": [
    {
     "data": {
      "text/plain": [
       "<AxesSubplot:>"
      ]
     },
     "execution_count": 8,
     "metadata": {},
     "output_type": "execute_result"
    },
    {
     "data": {
      "image/png": "[encoded data removed]",
      "text/plain": [
       "<Figure size 432x288 with 2 Axes>"
      ]
     },
     "metadata": {
      "needs_background": "light"
     },
     "output_type": "display_data"
    }
   ],
   "source": [
    "sns.heatmap(df.corr(), annot = True)"
   ]
  },
  {
   "cell_type": "markdown",
   "id": "balanced-rocket",
   "metadata": {
    "papermill": {
     "duration": 0.051332,
     "end_time": "2022-05-27T07:24:23.699132",
     "exception": false,
     "start_time": "2022-05-27T07:24:23.647800",
     "status": "completed"
    },
    "tags": []
   },
   "source": [
    "R&D Spend ve Profit arasındaki korelasyonu daha iyi görebilmek için scatterplot çizdirelim."
   ]
  },
  {
   "cell_type": "code",
   "execution_count": 9,
   "id": "prospective-synthetic",
   "metadata": {
    "execution": {
     "iopub.execute_input": "2022-05-27T07:24:23.806179Z",
     "iopub.status.busy": "2022-05-27T07:24:23.805372Z",
     "iopub.status.idle": "2022-05-27T07:24:24.035027Z",
     "shell.execute_reply": "2022-05-27T07:24:24.034594Z",
     "shell.execute_reply.started": "2022-05-09T17:49:34.887616Z"
    },
    "papermill": {
     "duration": 0.283991,
     "end_time": "2022-05-27T07:24:24.035140",
     "exception": false,
     "start_time": "2022-05-27T07:24:23.751149",
     "status": "completed"
    },
    "tags": []
   },
   "outputs": [
    {
     "data": {
      "text/plain": [
       "<AxesSubplot:xlabel='R&D Spend', ylabel='Profit'>"
      ]
     },
     "execution_count": 9,
     "metadata": {},
     "output_type": "execute_result"
    },
    {
     "data": {
      "image/png": "[encoded data removed]",
      "text/plain": [
       "<Figure size 432x288 with 1 Axes>"
      ]
     },
     "metadata": {
      "needs_background": "light"
     },
     "output_type": "display_data"
    }
   ],
   "source": [
    "sns.scatterplot(x=\"R&D Spend\",y=\"Profit\",data=df,color=\"purple\")"
   ]
  },
  {
   "cell_type": "markdown",
   "id": "material-disease",
   "metadata": {
    "papermill": {
     "duration": 0.035025,
     "end_time": "2022-05-27T07:24:24.105874",
     "exception": false,
     "start_time": "2022-05-27T07:24:24.070849",
     "status": "completed"
    },
    "tags": []
   },
   "source": [
    "Sayısal değişkenlerin dağılımını görmek için df üzerinden histogram çizdirelim."
   ]
  },
  {
   "cell_type": "code",
   "execution_count": 10,
   "id": "soviet-wilderness",
   "metadata": {
    "execution": {
     "iopub.execute_input": "2022-05-27T07:24:24.181615Z",
     "iopub.status.busy": "2022-05-27T07:24:24.181121Z",
     "iopub.status.idle": "2022-05-27T07:24:25.033491Z",
     "shell.execute_reply": "2022-05-27T07:24:25.032849Z",
     "shell.execute_reply.started": "2022-05-09T17:49:35.258156Z"
    },
    "papermill": {
     "duration": 0.892517,
     "end_time": "2022-05-27T07:24:25.033615",
     "exception": false,
     "start_time": "2022-05-27T07:24:24.141098",
     "status": "completed"
    },
    "tags": []
   },
   "outputs": [
    {
     "data": {
      "text/plain": [
       "array([[<AxesSubplot:title={'center':'R&D Spend'}>,\n",
       "        <AxesSubplot:title={'center':'Administration'}>],\n",
       "       [<AxesSubplot:title={'center':'Marketing Spend'}>,\n",
       "        <AxesSubplot:title={'center':'Profit'}>]], dtype=object)"
      ]
     },
     "execution_count": 10,
     "metadata": {},
     "output_type": "execute_result"
    },
    {
     "data": {
      "image/png": "[encoded data removed]",
      "text/plain": [
       "<Figure size 1800x1440 with 4 Axes>"
      ]
     },
     "metadata": {
      "needs_background": "light"
     },
     "output_type": "display_data"
    }
   ],
   "source": [
    "df.hist(figsize=(25,20),color=\"darkgreen\")"
   ]
  },
  {
   "cell_type": "markdown",
   "id": "changing-migration",
   "metadata": {
    "papermill": {
     "duration": 0.036864,
     "end_time": "2022-05-27T07:24:25.107408",
     "exception": false,
     "start_time": "2022-05-27T07:24:25.070544",
     "status": "completed"
    },
    "tags": []
   },
   "source": [
    "Veri çerçevesinin temel istatistik değerlerini görüntüleyelim."
   ]
  },
  {
   "cell_type": "code",
   "execution_count": 11,
   "id": "previous-receipt",
   "metadata": {
    "execution": {
     "iopub.execute_input": "2022-05-27T07:24:25.189151Z",
     "iopub.status.busy": "2022-05-27T07:24:25.188353Z",
     "iopub.status.idle": "2022-05-27T07:24:25.213908Z",
     "shell.execute_reply": "2022-05-27T07:24:25.214429Z",
     "shell.execute_reply.started": "2022-05-09T17:49:36.004036Z"
    },
    "papermill": {
     "duration": 0.070349,
     "end_time": "2022-05-27T07:24:25.214590",
     "exception": false,
     "start_time": "2022-05-27T07:24:25.144241",
     "status": "completed"
    },
    "tags": []
   },
   "outputs": [
    {
     "data": {
      "text/html": [
       "<div>\n",
       "<style scoped>\n",
       "    .dataframe tbody tr th:only-of-type {\n",
       "        vertical-align: middle;\n",
       "    }\n",
       "\n",
       "    .dataframe tbody tr th {\n",
       "        vertical-align: top;\n",
       "    }\n",
       "\n",
       "    .dataframe thead th {\n",
       "        text-align: right;\n",
       "    }\n",
       "</style>\n",
       "<table border=\"1\" class=\"dataframe\">\n",
       "  <thead>\n",
       "    <tr style=\"text-align: right;\">\n",
       "      <th></th>\n",
       "      <th>count</th>\n",
       "      <th>mean</th>\n",
       "      <th>std</th>\n",
       "      <th>min</th>\n",
       "      <th>25%</th>\n",
       "      <th>50%</th>\n",
       "      <th>75%</th>\n",
       "      <th>max</th>\n",
       "    </tr>\n",
       "  </thead>\n",
       "  <tbody>\n",
       "    <tr>\n",
       "      <th>R&amp;D Spend</th>\n",
       "      <td>50.0</td>\n",
       "      <td>73721.6156</td>\n",
       "      <td>45902.256482</td>\n",
       "      <td>0.00</td>\n",
       "      <td>39936.3700</td>\n",
       "      <td>73051.080</td>\n",
       "      <td>101602.8000</td>\n",
       "      <td>165349.20</td>\n",
       "    </tr>\n",
       "    <tr>\n",
       "      <th>Administration</th>\n",
       "      <td>50.0</td>\n",
       "      <td>121344.6396</td>\n",
       "      <td>28017.802755</td>\n",
       "      <td>51283.14</td>\n",
       "      <td>103730.8750</td>\n",
       "      <td>122699.795</td>\n",
       "      <td>144842.1800</td>\n",
       "      <td>182645.56</td>\n",
       "    </tr>\n",
       "    <tr>\n",
       "      <th>Marketing Spend</th>\n",
       "      <td>50.0</td>\n",
       "      <td>211025.0978</td>\n",
       "      <td>122290.310726</td>\n",
       "      <td>0.00</td>\n",
       "      <td>129300.1325</td>\n",
       "      <td>212716.240</td>\n",
       "      <td>299469.0850</td>\n",
       "      <td>471784.10</td>\n",
       "    </tr>\n",
       "    <tr>\n",
       "      <th>Profit</th>\n",
       "      <td>50.0</td>\n",
       "      <td>112012.6392</td>\n",
       "      <td>40306.180338</td>\n",
       "      <td>14681.40</td>\n",
       "      <td>90138.9025</td>\n",
       "      <td>107978.190</td>\n",
       "      <td>139765.9775</td>\n",
       "      <td>192261.83</td>\n",
       "    </tr>\n",
       "  </tbody>\n",
       "</table>\n",
       "</div>"
      ],
      "text/plain": [
       "                 count         mean            std       min          25%  \\\n",
       "R&D Spend         50.0   73721.6156   45902.256482      0.00   39936.3700   \n",
       "Administration    50.0  121344.6396   28017.802755  51283.14  103730.8750   \n",
       "Marketing Spend   50.0  211025.0978  122290.310726      0.00  129300.1325   \n",
       "Profit            50.0  112012.6392   40306.180338  14681.40   90138.9025   \n",
       "\n",
       "                        50%          75%        max  \n",
       "R&D Spend         73051.080  101602.8000  165349.20  \n",
       "Administration   122699.795  144842.1800  182645.56  \n",
       "Marketing Spend  212716.240  299469.0850  471784.10  \n",
       "Profit           107978.190  139765.9775  192261.83  "
      ]
     },
     "execution_count": 11,
     "metadata": {},
     "output_type": "execute_result"
    }
   ],
   "source": [
    "df.describe().T"
   ]
  },
  {
   "cell_type": "markdown",
   "id": "checked-convertible",
   "metadata": {
    "papermill": {
     "duration": 0.05526,
     "end_time": "2022-05-27T07:24:25.325680",
     "exception": false,
     "start_time": "2022-05-27T07:24:25.270420",
     "status": "completed"
    },
    "tags": []
   },
   "source": [
    "State'a ait benzersiz değerleri görüntüleyelim."
   ]
  },
  {
   "cell_type": "code",
   "execution_count": 12,
   "id": "personalized-graduate",
   "metadata": {
    "execution": {
     "iopub.execute_input": "2022-05-27T07:24:25.441035Z",
     "iopub.status.busy": "2022-05-27T07:24:25.440400Z",
     "iopub.status.idle": "2022-05-27T07:24:25.444301Z",
     "shell.execute_reply": "2022-05-27T07:24:25.444869Z",
     "shell.execute_reply.started": "2022-05-09T17:49:36.038794Z"
    },
    "papermill": {
     "duration": 0.063436,
     "end_time": "2022-05-27T07:24:25.445035",
     "exception": false,
     "start_time": "2022-05-27T07:24:25.381599",
     "status": "completed"
    },
    "tags": []
   },
   "outputs": [
    {
     "data": {
      "text/plain": [
       "array(['New York', 'California', 'Florida'], dtype=object)"
      ]
     },
     "execution_count": 12,
     "metadata": {},
     "output_type": "execute_result"
    }
   ],
   "source": [
    "df[\"State\"].unique()"
   ]
  },
  {
   "cell_type": "markdown",
   "id": "gentle-grocery",
   "metadata": {
    "papermill": {
     "duration": 0.056186,
     "end_time": "2022-05-27T07:24:25.557726",
     "exception": false,
     "start_time": "2022-05-27T07:24:25.501540",
     "status": "completed"
    },
    "tags": []
   },
   "source": [
    "get_dummies yardımıyla State'a dair kategorik öznitelik çıkarımlarında bulunalım. Çünkü State'ların birbirine üstünlüğü yok, nominaller. Ordinal değil."
   ]
  },
  {
   "cell_type": "code",
   "execution_count": 13,
   "id": "completed-reset",
   "metadata": {
    "execution": {
     "iopub.execute_input": "2022-05-27T07:24:25.674741Z",
     "iopub.status.busy": "2022-05-27T07:24:25.674078Z",
     "iopub.status.idle": "2022-05-27T07:24:25.679158Z",
     "shell.execute_reply": "2022-05-27T07:24:25.679711Z",
     "shell.execute_reply.started": "2022-05-09T17:49:36.563393Z"
    },
    "papermill": {
     "duration": 0.064637,
     "end_time": "2022-05-27T07:24:25.679880",
     "exception": false,
     "start_time": "2022-05-27T07:24:25.615243",
     "status": "completed"
    },
    "tags": []
   },
   "outputs": [],
   "source": [
    "df['State'] = pd.Categorical(df['State'])"
   ]
  },
  {
   "cell_type": "code",
   "execution_count": 14,
   "id": "featured-queen",
   "metadata": {
    "execution": {
     "iopub.execute_input": "2022-05-27T07:24:25.795681Z",
     "iopub.status.busy": "2022-05-27T07:24:25.795022Z",
     "iopub.status.idle": "2022-05-27T07:24:25.800556Z",
     "shell.execute_reply": "2022-05-27T07:24:25.801133Z",
     "shell.execute_reply.started": "2022-05-09T17:49:37.185222Z"
    },
    "papermill": {
     "duration": 0.065196,
     "end_time": "2022-05-27T07:24:25.801311",
     "exception": false,
     "start_time": "2022-05-27T07:24:25.736115",
     "status": "completed"
    },
    "tags": []
   },
   "outputs": [],
   "source": [
    "dfDummies = pd.get_dummies(df['State'])"
   ]
  },
  {
   "cell_type": "code",
   "execution_count": 15,
   "id": "considerable-right",
   "metadata": {
    "execution": {
     "iopub.execute_input": "2022-05-27T07:24:25.917129Z",
     "iopub.status.busy": "2022-05-27T07:24:25.916518Z",
     "iopub.status.idle": "2022-05-27T07:24:25.924679Z",
     "shell.execute_reply": "2022-05-27T07:24:25.925222Z",
     "shell.execute_reply.started": "2022-05-09T17:49:37.698162Z"
    },
    "papermill": {
     "duration": 0.067705,
     "end_time": "2022-05-27T07:24:25.925385",
     "exception": false,
     "start_time": "2022-05-27T07:24:25.857680",
     "status": "completed"
    },
    "tags": []
   },
   "outputs": [
    {
     "data": {
      "text/html": [
       "<div>\n",
       "<style scoped>\n",
       "    .dataframe tbody tr th:only-of-type {\n",
       "        vertical-align: middle;\n",
       "    }\n",
       "\n",
       "    .dataframe tbody tr th {\n",
       "        vertical-align: top;\n",
       "    }\n",
       "\n",
       "    .dataframe thead th {\n",
       "        text-align: right;\n",
       "    }\n",
       "</style>\n",
       "<table border=\"1\" class=\"dataframe\">\n",
       "  <thead>\n",
       "    <tr style=\"text-align: right;\">\n",
       "      <th></th>\n",
       "      <th>California</th>\n",
       "      <th>Florida</th>\n",
       "      <th>New York</th>\n",
       "    </tr>\n",
       "  </thead>\n",
       "  <tbody>\n",
       "    <tr>\n",
       "      <th>0</th>\n",
       "      <td>0</td>\n",
       "      <td>0</td>\n",
       "      <td>1</td>\n",
       "    </tr>\n",
       "    <tr>\n",
       "      <th>1</th>\n",
       "      <td>1</td>\n",
       "      <td>0</td>\n",
       "      <td>0</td>\n",
       "    </tr>\n",
       "    <tr>\n",
       "      <th>2</th>\n",
       "      <td>0</td>\n",
       "      <td>1</td>\n",
       "      <td>0</td>\n",
       "    </tr>\n",
       "    <tr>\n",
       "      <th>3</th>\n",
       "      <td>0</td>\n",
       "      <td>0</td>\n",
       "      <td>1</td>\n",
       "    </tr>\n",
       "    <tr>\n",
       "      <th>4</th>\n",
       "      <td>0</td>\n",
       "      <td>1</td>\n",
       "      <td>0</td>\n",
       "    </tr>\n",
       "  </tbody>\n",
       "</table>\n",
       "</div>"
      ],
      "text/plain": [
       "   California  Florida  New York\n",
       "0           0        0         1\n",
       "1           1        0         0\n",
       "2           0        1         0\n",
       "3           0        0         1\n",
       "4           0        1         0"
      ]
     },
     "execution_count": 15,
     "metadata": {},
     "output_type": "execute_result"
    }
   ],
   "source": [
    "dfDummies.head()"
   ]
  },
  {
   "cell_type": "code",
   "execution_count": 16,
   "id": "electrical-october",
   "metadata": {
    "execution": {
     "iopub.execute_input": "2022-05-27T07:24:26.041737Z",
     "iopub.status.busy": "2022-05-27T07:24:26.041041Z",
     "iopub.status.idle": "2022-05-27T07:24:26.053100Z",
     "shell.execute_reply": "2022-05-27T07:24:26.053625Z",
     "shell.execute_reply.started": "2022-05-09T17:49:38.17946Z"
    },
    "papermill": {
     "duration": 0.071958,
     "end_time": "2022-05-27T07:24:26.053804",
     "exception": false,
     "start_time": "2022-05-27T07:24:25.981846",
     "status": "completed"
    },
    "tags": []
   },
   "outputs": [
    {
     "data": {
      "text/html": [
       "<div>\n",
       "<style scoped>\n",
       "    .dataframe tbody tr th:only-of-type {\n",
       "        vertical-align: middle;\n",
       "    }\n",
       "\n",
       "    .dataframe tbody tr th {\n",
       "        vertical-align: top;\n",
       "    }\n",
       "\n",
       "    .dataframe thead th {\n",
       "        text-align: right;\n",
       "    }\n",
       "</style>\n",
       "<table border=\"1\" class=\"dataframe\">\n",
       "  <thead>\n",
       "    <tr style=\"text-align: right;\">\n",
       "      <th></th>\n",
       "      <th>R&amp;D Spend</th>\n",
       "      <th>Administration</th>\n",
       "      <th>Marketing Spend</th>\n",
       "      <th>State</th>\n",
       "      <th>Profit</th>\n",
       "      <th>California</th>\n",
       "      <th>Florida</th>\n",
       "      <th>New York</th>\n",
       "    </tr>\n",
       "  </thead>\n",
       "  <tbody>\n",
       "    <tr>\n",
       "      <th>0</th>\n",
       "      <td>165349.20</td>\n",
       "      <td>136897.80</td>\n",
       "      <td>471784.10</td>\n",
       "      <td>New York</td>\n",
       "      <td>192261.83</td>\n",
       "      <td>0</td>\n",
       "      <td>0</td>\n",
       "      <td>1</td>\n",
       "    </tr>\n",
       "    <tr>\n",
       "      <th>1</th>\n",
       "      <td>162597.70</td>\n",
       "      <td>151377.59</td>\n",
       "      <td>443898.53</td>\n",
       "      <td>California</td>\n",
       "      <td>191792.06</td>\n",
       "      <td>1</td>\n",
       "      <td>0</td>\n",
       "      <td>0</td>\n",
       "    </tr>\n",
       "    <tr>\n",
       "      <th>2</th>\n",
       "      <td>153441.51</td>\n",
       "      <td>101145.55</td>\n",
       "      <td>407934.54</td>\n",
       "      <td>Florida</td>\n",
       "      <td>191050.39</td>\n",
       "      <td>0</td>\n",
       "      <td>1</td>\n",
       "      <td>0</td>\n",
       "    </tr>\n",
       "    <tr>\n",
       "      <th>3</th>\n",
       "      <td>144372.41</td>\n",
       "      <td>118671.85</td>\n",
       "      <td>383199.62</td>\n",
       "      <td>New York</td>\n",
       "      <td>182901.99</td>\n",
       "      <td>0</td>\n",
       "      <td>0</td>\n",
       "      <td>1</td>\n",
       "    </tr>\n",
       "    <tr>\n",
       "      <th>4</th>\n",
       "      <td>142107.34</td>\n",
       "      <td>91391.77</td>\n",
       "      <td>366168.42</td>\n",
       "      <td>Florida</td>\n",
       "      <td>166187.94</td>\n",
       "      <td>0</td>\n",
       "      <td>1</td>\n",
       "      <td>0</td>\n",
       "    </tr>\n",
       "  </tbody>\n",
       "</table>\n",
       "</div>"
      ],
      "text/plain": [
       "   R&D Spend  Administration  Marketing Spend       State     Profit  \\\n",
       "0  165349.20       136897.80        471784.10    New York  192261.83   \n",
       "1  162597.70       151377.59        443898.53  California  191792.06   \n",
       "2  153441.51       101145.55        407934.54     Florida  191050.39   \n",
       "3  144372.41       118671.85        383199.62    New York  182901.99   \n",
       "4  142107.34        91391.77        366168.42     Florida  166187.94   \n",
       "\n",
       "   California  Florida  New York  \n",
       "0           0        0         1  \n",
       "1           1        0         0  \n",
       "2           0        1         0  \n",
       "3           0        0         1  \n",
       "4           0        1         0  "
      ]
     },
     "execution_count": 16,
     "metadata": {},
     "output_type": "execute_result"
    }
   ],
   "source": [
    "df = pd.concat([df,dfDummies],axis = 1)\n",
    "df.head()"
   ]
  },
  {
   "cell_type": "markdown",
   "id": "younger-mailing",
   "metadata": {
    "papermill": {
     "duration": 0.057532,
     "end_time": "2022-05-27T07:24:26.168842",
     "exception": false,
     "start_time": "2022-05-27T07:24:26.111310",
     "status": "completed"
    },
    "tags": []
   },
   "source": [
    "State özniteliğini silip dummy olarak yaratılan State'lardan da birisini hariç tutarak veri çerçevemizi güncelleyelim."
   ]
  },
  {
   "cell_type": "code",
   "execution_count": 17,
   "id": "vietnamese-canvas",
   "metadata": {
    "execution": {
     "iopub.execute_input": "2022-05-27T07:24:26.286901Z",
     "iopub.status.busy": "2022-05-27T07:24:26.285559Z",
     "iopub.status.idle": "2022-05-27T07:24:26.297327Z",
     "shell.execute_reply": "2022-05-27T07:24:26.296817Z",
     "shell.execute_reply.started": "2022-05-09T17:49:38.639937Z"
    },
    "papermill": {
     "duration": 0.071487,
     "end_time": "2022-05-27T07:24:26.297469",
     "exception": false,
     "start_time": "2022-05-27T07:24:26.225982",
     "status": "completed"
    },
    "tags": []
   },
   "outputs": [
    {
     "data": {
      "text/html": [
       "<div>\n",
       "<style scoped>\n",
       "    .dataframe tbody tr th:only-of-type {\n",
       "        vertical-align: middle;\n",
       "    }\n",
       "\n",
       "    .dataframe tbody tr th {\n",
       "        vertical-align: top;\n",
       "    }\n",
       "\n",
       "    .dataframe thead th {\n",
       "        text-align: right;\n",
       "    }\n",
       "</style>\n",
       "<table border=\"1\" class=\"dataframe\">\n",
       "  <thead>\n",
       "    <tr style=\"text-align: right;\">\n",
       "      <th></th>\n",
       "      <th>R&amp;D Spend</th>\n",
       "      <th>Administration</th>\n",
       "      <th>Marketing Spend</th>\n",
       "      <th>Profit</th>\n",
       "      <th>California</th>\n",
       "      <th>New York</th>\n",
       "    </tr>\n",
       "  </thead>\n",
       "  <tbody>\n",
       "    <tr>\n",
       "      <th>0</th>\n",
       "      <td>165349.20</td>\n",
       "      <td>136897.80</td>\n",
       "      <td>471784.10</td>\n",
       "      <td>192261.83</td>\n",
       "      <td>0</td>\n",
       "      <td>1</td>\n",
       "    </tr>\n",
       "    <tr>\n",
       "      <th>1</th>\n",
       "      <td>162597.70</td>\n",
       "      <td>151377.59</td>\n",
       "      <td>443898.53</td>\n",
       "      <td>191792.06</td>\n",
       "      <td>1</td>\n",
       "      <td>0</td>\n",
       "    </tr>\n",
       "    <tr>\n",
       "      <th>2</th>\n",
       "      <td>153441.51</td>\n",
       "      <td>101145.55</td>\n",
       "      <td>407934.54</td>\n",
       "      <td>191050.39</td>\n",
       "      <td>0</td>\n",
       "      <td>0</td>\n",
       "    </tr>\n",
       "    <tr>\n",
       "      <th>3</th>\n",
       "      <td>144372.41</td>\n",
       "      <td>118671.85</td>\n",
       "      <td>383199.62</td>\n",
       "      <td>182901.99</td>\n",
       "      <td>0</td>\n",
       "      <td>1</td>\n",
       "    </tr>\n",
       "    <tr>\n",
       "      <th>4</th>\n",
       "      <td>142107.34</td>\n",
       "      <td>91391.77</td>\n",
       "      <td>366168.42</td>\n",
       "      <td>166187.94</td>\n",
       "      <td>0</td>\n",
       "      <td>0</td>\n",
       "    </tr>\n",
       "  </tbody>\n",
       "</table>\n",
       "</div>"
      ],
      "text/plain": [
       "   R&D Spend  Administration  Marketing Spend     Profit  California  New York\n",
       "0  165349.20       136897.80        471784.10  192261.83           0         1\n",
       "1  162597.70       151377.59        443898.53  191792.06           1         0\n",
       "2  153441.51       101145.55        407934.54  191050.39           0         0\n",
       "3  144372.41       118671.85        383199.62  182901.99           0         1\n",
       "4  142107.34        91391.77        366168.42  166187.94           0         0"
      ]
     },
     "execution_count": 17,
     "metadata": {},
     "output_type": "execute_result"
    }
   ],
   "source": [
    "df = df.drop(['State', \"Florida\"], axis = 1)\n",
    "df.head()"
   ]
  },
  {
   "cell_type": "markdown",
   "id": "directed-trigger",
   "metadata": {
    "papermill": {
     "duration": 0.057033,
     "end_time": "2022-05-27T07:24:26.413078",
     "exception": false,
     "start_time": "2022-05-27T07:24:26.356045",
     "status": "completed"
    },
    "tags": []
   },
   "source": [
    "Veri çerçevemizi bağımlı ve bağımsız değişkenler olmak üzere bölütleyelim."
   ]
  },
  {
   "cell_type": "code",
   "execution_count": 18,
   "id": "experimental-chocolate",
   "metadata": {
    "execution": {
     "iopub.execute_input": "2022-05-27T07:24:26.533881Z",
     "iopub.status.busy": "2022-05-27T07:24:26.533250Z",
     "iopub.status.idle": "2022-05-27T07:24:26.535705Z",
     "shell.execute_reply": "2022-05-27T07:24:26.535115Z",
     "shell.execute_reply.started": "2022-05-09T17:49:39.017365Z"
    },
    "papermill": {
     "duration": 0.064549,
     "end_time": "2022-05-27T07:24:26.535832",
     "exception": false,
     "start_time": "2022-05-27T07:24:26.471283",
     "status": "completed"
    },
    "tags": []
   },
   "outputs": [],
   "source": [
    "x = df.drop(\"Profit\", axis = 1)\n",
    "y = df[\"Profit\"]"
   ]
  },
  {
   "cell_type": "markdown",
   "id": "surface-eligibility",
   "metadata": {
    "papermill": {
     "duration": 0.057653,
     "end_time": "2022-05-27T07:24:26.650983",
     "exception": false,
     "start_time": "2022-05-27T07:24:26.593330",
     "status": "completed"
    },
    "tags": []
   },
   "source": [
    "Bağımlı ve bağımsız değişkenleri kontrol edelim."
   ]
  },
  {
   "cell_type": "code",
   "execution_count": 19,
   "id": "helpful-processor",
   "metadata": {
    "execution": {
     "iopub.execute_input": "2022-05-27T07:24:26.778365Z",
     "iopub.status.busy": "2022-05-27T07:24:26.777714Z",
     "iopub.status.idle": "2022-05-27T07:24:26.781214Z",
     "shell.execute_reply": "2022-05-27T07:24:26.781780Z",
     "shell.execute_reply.started": "2022-05-09T17:49:39.443156Z"
    },
    "papermill": {
     "duration": 0.07253,
     "end_time": "2022-05-27T07:24:26.781971",
     "exception": false,
     "start_time": "2022-05-27T07:24:26.709441",
     "status": "completed"
    },
    "tags": []
   },
   "outputs": [
    {
     "data": {
      "text/html": [
       "<div>\n",
       "<style scoped>\n",
       "    .dataframe tbody tr th:only-of-type {\n",
       "        vertical-align: middle;\n",
       "    }\n",
       "\n",
       "    .dataframe tbody tr th {\n",
       "        vertical-align: top;\n",
       "    }\n",
       "\n",
       "    .dataframe thead th {\n",
       "        text-align: right;\n",
       "    }\n",
       "</style>\n",
       "<table border=\"1\" class=\"dataframe\">\n",
       "  <thead>\n",
       "    <tr style=\"text-align: right;\">\n",
       "      <th></th>\n",
       "      <th>R&amp;D Spend</th>\n",
       "      <th>Administration</th>\n",
       "      <th>Marketing Spend</th>\n",
       "      <th>California</th>\n",
       "      <th>New York</th>\n",
       "    </tr>\n",
       "  </thead>\n",
       "  <tbody>\n",
       "    <tr>\n",
       "      <th>0</th>\n",
       "      <td>165349.20</td>\n",
       "      <td>136897.80</td>\n",
       "      <td>471784.10</td>\n",
       "      <td>0</td>\n",
       "      <td>1</td>\n",
       "    </tr>\n",
       "    <tr>\n",
       "      <th>1</th>\n",
       "      <td>162597.70</td>\n",
       "      <td>151377.59</td>\n",
       "      <td>443898.53</td>\n",
       "      <td>1</td>\n",
       "      <td>0</td>\n",
       "    </tr>\n",
       "    <tr>\n",
       "      <th>2</th>\n",
       "      <td>153441.51</td>\n",
       "      <td>101145.55</td>\n",
       "      <td>407934.54</td>\n",
       "      <td>0</td>\n",
       "      <td>0</td>\n",
       "    </tr>\n",
       "    <tr>\n",
       "      <th>3</th>\n",
       "      <td>144372.41</td>\n",
       "      <td>118671.85</td>\n",
       "      <td>383199.62</td>\n",
       "      <td>0</td>\n",
       "      <td>1</td>\n",
       "    </tr>\n",
       "    <tr>\n",
       "      <th>4</th>\n",
       "      <td>142107.34</td>\n",
       "      <td>91391.77</td>\n",
       "      <td>366168.42</td>\n",
       "      <td>0</td>\n",
       "      <td>0</td>\n",
       "    </tr>\n",
       "  </tbody>\n",
       "</table>\n",
       "</div>"
      ],
      "text/plain": [
       "   R&D Spend  Administration  Marketing Spend  California  New York\n",
       "0  165349.20       136897.80        471784.10           0         1\n",
       "1  162597.70       151377.59        443898.53           1         0\n",
       "2  153441.51       101145.55        407934.54           0         0\n",
       "3  144372.41       118671.85        383199.62           0         1\n",
       "4  142107.34        91391.77        366168.42           0         0"
      ]
     },
     "execution_count": 19,
     "metadata": {},
     "output_type": "execute_result"
    }
   ],
   "source": [
    "x.head()"
   ]
  },
  {
   "cell_type": "code",
   "execution_count": 20,
   "id": "acting-venezuela",
   "metadata": {
    "execution": {
     "iopub.execute_input": "2022-05-27T07:24:26.901774Z",
     "iopub.status.busy": "2022-05-27T07:24:26.901148Z",
     "iopub.status.idle": "2022-05-27T07:24:26.907509Z",
     "shell.execute_reply": "2022-05-27T07:24:26.908025Z",
     "shell.execute_reply.started": "2022-05-09T17:49:39.861009Z"
    },
    "papermill": {
     "duration": 0.067642,
     "end_time": "2022-05-27T07:24:26.908198",
     "exception": false,
     "start_time": "2022-05-27T07:24:26.840556",
     "status": "completed"
    },
    "tags": []
   },
   "outputs": [
    {
     "data": {
      "text/plain": [
       "0    192261.83\n",
       "1    191792.06\n",
       "2    191050.39\n",
       "3    182901.99\n",
       "4    166187.94\n",
       "Name: Profit, dtype: float64"
      ]
     },
     "execution_count": 20,
     "metadata": {},
     "output_type": "execute_result"
    }
   ],
   "source": [
    "y.head()"
   ]
  },
  {
   "cell_type": "markdown",
   "id": "daily-indie",
   "metadata": {
    "papermill": {
     "duration": 0.058169,
     "end_time": "2022-05-27T07:24:27.024935",
     "exception": false,
     "start_time": "2022-05-27T07:24:26.966766",
     "status": "completed"
    },
    "tags": []
   },
   "source": [
    "Bu bağımlı ve bağımsız değişkenlerden train ve test olmak üzere 4 parça oluşturalım. Bunu yapmak için train_test_split kullanalım."
   ]
  },
  {
   "cell_type": "code",
   "execution_count": 21,
   "id": "dated-serial",
   "metadata": {
    "execution": {
     "iopub.execute_input": "2022-05-27T07:24:27.146371Z",
     "iopub.status.busy": "2022-05-27T07:24:27.145728Z",
     "iopub.status.idle": "2022-05-27T07:24:27.379884Z",
     "shell.execute_reply": "2022-05-27T07:24:27.379226Z",
     "shell.execute_reply.started": "2022-05-09T17:49:40.253365Z"
    },
    "papermill": {
     "duration": 0.29567,
     "end_time": "2022-05-27T07:24:27.380027",
     "exception": false,
     "start_time": "2022-05-27T07:24:27.084357",
     "status": "completed"
    },
    "tags": []
   },
   "outputs": [],
   "source": [
    "from sklearn.model_selection import train_test_split\n",
    "x_train, x_test, y_train, y_test = train_test_split(x, y, test_size = 0.2, random_state = 40, shuffle=1)"
   ]
  },
  {
   "cell_type": "markdown",
   "id": "graduate-wound",
   "metadata": {
    "papermill": {
     "duration": 0.058598,
     "end_time": "2022-05-27T07:24:27.497953",
     "exception": false,
     "start_time": "2022-05-27T07:24:27.439355",
     "status": "completed"
    },
    "tags": []
   },
   "source": [
    "4 parça değişkeni kontrol edelim."
   ]
  },
  {
   "cell_type": "code",
   "execution_count": 22,
   "id": "imposed-canal",
   "metadata": {
    "execution": {
     "iopub.execute_input": "2022-05-27T07:24:27.628730Z",
     "iopub.status.busy": "2022-05-27T07:24:27.627991Z",
     "iopub.status.idle": "2022-05-27T07:24:27.632134Z",
     "shell.execute_reply": "2022-05-27T07:24:27.632624Z",
     "shell.execute_reply.started": "2022-05-09T17:49:40.700681Z"
    },
    "papermill": {
     "duration": 0.075907,
     "end_time": "2022-05-27T07:24:27.632824",
     "exception": false,
     "start_time": "2022-05-27T07:24:27.556917",
     "status": "completed"
    },
    "tags": []
   },
   "outputs": [
    {
     "data": {
      "text/html": [
       "<div>\n",
       "<style scoped>\n",
       "    .dataframe tbody tr th:only-of-type {\n",
       "        vertical-align: middle;\n",
       "    }\n",
       "\n",
       "    .dataframe tbody tr th {\n",
       "        vertical-align: top;\n",
       "    }\n",
       "\n",
       "    .dataframe thead th {\n",
       "        text-align: right;\n",
       "    }\n",
       "</style>\n",
       "<table border=\"1\" class=\"dataframe\">\n",
       "  <thead>\n",
       "    <tr style=\"text-align: right;\">\n",
       "      <th></th>\n",
       "      <th>R&amp;D Spend</th>\n",
       "      <th>Administration</th>\n",
       "      <th>Marketing Spend</th>\n",
       "      <th>California</th>\n",
       "      <th>New York</th>\n",
       "    </tr>\n",
       "  </thead>\n",
       "  <tbody>\n",
       "    <tr>\n",
       "      <th>16</th>\n",
       "      <td>78013.11</td>\n",
       "      <td>121597.55</td>\n",
       "      <td>264346.06</td>\n",
       "      <td>1</td>\n",
       "      <td>0</td>\n",
       "    </tr>\n",
       "    <tr>\n",
       "      <th>35</th>\n",
       "      <td>46014.02</td>\n",
       "      <td>85047.44</td>\n",
       "      <td>205517.64</td>\n",
       "      <td>0</td>\n",
       "      <td>1</td>\n",
       "    </tr>\n",
       "    <tr>\n",
       "      <th>25</th>\n",
       "      <td>64664.71</td>\n",
       "      <td>139553.16</td>\n",
       "      <td>137962.62</td>\n",
       "      <td>1</td>\n",
       "      <td>0</td>\n",
       "    </tr>\n",
       "    <tr>\n",
       "      <th>21</th>\n",
       "      <td>78389.47</td>\n",
       "      <td>153773.43</td>\n",
       "      <td>299737.29</td>\n",
       "      <td>0</td>\n",
       "      <td>1</td>\n",
       "    </tr>\n",
       "    <tr>\n",
       "      <th>44</th>\n",
       "      <td>22177.74</td>\n",
       "      <td>154806.14</td>\n",
       "      <td>28334.72</td>\n",
       "      <td>1</td>\n",
       "      <td>0</td>\n",
       "    </tr>\n",
       "  </tbody>\n",
       "</table>\n",
       "</div>"
      ],
      "text/plain": [
       "    R&D Spend  Administration  Marketing Spend  California  New York\n",
       "16   78013.11       121597.55        264346.06           1         0\n",
       "35   46014.02        85047.44        205517.64           0         1\n",
       "25   64664.71       139553.16        137962.62           1         0\n",
       "21   78389.47       153773.43        299737.29           0         1\n",
       "44   22177.74       154806.14         28334.72           1         0"
      ]
     },
     "execution_count": 22,
     "metadata": {},
     "output_type": "execute_result"
    }
   ],
   "source": [
    "x_train.head()"
   ]
  },
  {
   "cell_type": "code",
   "execution_count": 23,
   "id": "given-gilbert",
   "metadata": {
    "execution": {
     "iopub.execute_input": "2022-05-27T07:24:27.755520Z",
     "iopub.status.busy": "2022-05-27T07:24:27.754909Z",
     "iopub.status.idle": "2022-05-27T07:24:27.764376Z",
     "shell.execute_reply": "2022-05-27T07:24:27.764954Z",
     "shell.execute_reply.started": "2022-05-09T17:49:41.199711Z"
    },
    "papermill": {
     "duration": 0.07179,
     "end_time": "2022-05-27T07:24:27.765122",
     "exception": false,
     "start_time": "2022-05-27T07:24:27.693332",
     "status": "completed"
    },
    "tags": []
   },
   "outputs": [
    {
     "data": {
      "text/html": [
       "<div>\n",
       "<style scoped>\n",
       "    .dataframe tbody tr th:only-of-type {\n",
       "        vertical-align: middle;\n",
       "    }\n",
       "\n",
       "    .dataframe tbody tr th {\n",
       "        vertical-align: top;\n",
       "    }\n",
       "\n",
       "    .dataframe thead th {\n",
       "        text-align: right;\n",
       "    }\n",
       "</style>\n",
       "<table border=\"1\" class=\"dataframe\">\n",
       "  <thead>\n",
       "    <tr style=\"text-align: right;\">\n",
       "      <th></th>\n",
       "      <th>R&amp;D Spend</th>\n",
       "      <th>Administration</th>\n",
       "      <th>Marketing Spend</th>\n",
       "      <th>California</th>\n",
       "      <th>New York</th>\n",
       "    </tr>\n",
       "  </thead>\n",
       "  <tbody>\n",
       "    <tr>\n",
       "      <th>33</th>\n",
       "      <td>55493.95</td>\n",
       "      <td>103057.49</td>\n",
       "      <td>214634.81</td>\n",
       "      <td>0</td>\n",
       "      <td>0</td>\n",
       "    </tr>\n",
       "    <tr>\n",
       "      <th>29</th>\n",
       "      <td>65605.48</td>\n",
       "      <td>153032.06</td>\n",
       "      <td>107138.38</td>\n",
       "      <td>0</td>\n",
       "      <td>1</td>\n",
       "    </tr>\n",
       "    <tr>\n",
       "      <th>49</th>\n",
       "      <td>0.00</td>\n",
       "      <td>116983.80</td>\n",
       "      <td>45173.06</td>\n",
       "      <td>1</td>\n",
       "      <td>0</td>\n",
       "    </tr>\n",
       "    <tr>\n",
       "      <th>38</th>\n",
       "      <td>20229.59</td>\n",
       "      <td>65947.93</td>\n",
       "      <td>185265.10</td>\n",
       "      <td>0</td>\n",
       "      <td>1</td>\n",
       "    </tr>\n",
       "    <tr>\n",
       "      <th>45</th>\n",
       "      <td>1000.23</td>\n",
       "      <td>124153.04</td>\n",
       "      <td>1903.93</td>\n",
       "      <td>0</td>\n",
       "      <td>1</td>\n",
       "    </tr>\n",
       "  </tbody>\n",
       "</table>\n",
       "</div>"
      ],
      "text/plain": [
       "    R&D Spend  Administration  Marketing Spend  California  New York\n",
       "33   55493.95       103057.49        214634.81           0         0\n",
       "29   65605.48       153032.06        107138.38           0         1\n",
       "49       0.00       116983.80         45173.06           1         0\n",
       "38   20229.59        65947.93        185265.10           0         1\n",
       "45    1000.23       124153.04          1903.93           0         1"
      ]
     },
     "execution_count": 23,
     "metadata": {},
     "output_type": "execute_result"
    }
   ],
   "source": [
    "x_test.head()"
   ]
  },
  {
   "cell_type": "code",
   "execution_count": 24,
   "id": "foster-custody",
   "metadata": {
    "execution": {
     "iopub.execute_input": "2022-05-27T07:24:27.887768Z",
     "iopub.status.busy": "2022-05-27T07:24:27.887160Z",
     "iopub.status.idle": "2022-05-27T07:24:27.891947Z",
     "shell.execute_reply": "2022-05-27T07:24:27.892527Z",
     "shell.execute_reply.started": "2022-05-09T17:49:41.661882Z"
    },
    "papermill": {
     "duration": 0.067855,
     "end_time": "2022-05-27T07:24:27.892725",
     "exception": false,
     "start_time": "2022-05-27T07:24:27.824870",
     "status": "completed"
    },
    "tags": []
   },
   "outputs": [
    {
     "data": {
      "text/plain": [
       "16    126992.93\n",
       "35     96479.51\n",
       "25    107404.34\n",
       "21    111313.02\n",
       "44     65200.33\n",
       "Name: Profit, dtype: float64"
      ]
     },
     "execution_count": 24,
     "metadata": {},
     "output_type": "execute_result"
    }
   ],
   "source": [
    "y_train.head()"
   ]
  },
  {
   "cell_type": "code",
   "execution_count": 25,
   "id": "chubby-collins",
   "metadata": {
    "execution": {
     "iopub.execute_input": "2022-05-27T07:24:28.016935Z",
     "iopub.status.busy": "2022-05-27T07:24:28.016224Z",
     "iopub.status.idle": "2022-05-27T07:24:28.021169Z",
     "shell.execute_reply": "2022-05-27T07:24:28.021749Z",
     "shell.execute_reply.started": "2022-05-09T17:49:42.019407Z"
    },
    "papermill": {
     "duration": 0.068772,
     "end_time": "2022-05-27T07:24:28.021994",
     "exception": false,
     "start_time": "2022-05-27T07:24:27.953222",
     "status": "completed"
    },
    "tags": []
   },
   "outputs": [
    {
     "data": {
      "text/plain": [
       "33     96778.92\n",
       "29    101004.64\n",
       "49     14681.40\n",
       "38     81229.06\n",
       "45     64926.08\n",
       "Name: Profit, dtype: float64"
      ]
     },
     "execution_count": 25,
     "metadata": {},
     "output_type": "execute_result"
    }
   ],
   "source": [
    "y_test.head()"
   ]
  },
  {
   "cell_type": "markdown",
   "id": "naval-bulletin",
   "metadata": {
    "papermill": {
     "duration": 0.060811,
     "end_time": "2022-05-27T07:24:28.145206",
     "exception": false,
     "start_time": "2022-05-27T07:24:28.084395",
     "status": "completed"
    },
    "tags": []
   },
   "source": [
    "LinearRegression'u çekirdeğe dahil edip modeli inşa edelim."
   ]
  },
  {
   "cell_type": "code",
   "execution_count": 26,
   "id": "armed-issue",
   "metadata": {
    "execution": {
     "iopub.execute_input": "2022-05-27T07:24:28.268567Z",
     "iopub.status.busy": "2022-05-27T07:24:28.267958Z",
     "iopub.status.idle": "2022-05-27T07:24:28.383934Z",
     "shell.execute_reply": "2022-05-27T07:24:28.383247Z",
     "shell.execute_reply.started": "2022-05-09T17:49:42.381301Z"
    },
    "papermill": {
     "duration": 0.17863,
     "end_time": "2022-05-27T07:24:28.384054",
     "exception": false,
     "start_time": "2022-05-27T07:24:28.205424",
     "status": "completed"
    },
    "tags": []
   },
   "outputs": [
    {
     "data": {
      "text/plain": [
       "LinearRegression()"
      ]
     },
     "execution_count": 26,
     "metadata": {},
     "output_type": "execute_result"
    }
   ],
   "source": [
    "from sklearn.linear_model import LinearRegression\n",
    "lm = LinearRegression()\n",
    "lm"
   ]
  },
  {
   "cell_type": "markdown",
   "id": "historic-shepherd",
   "metadata": {
    "papermill": {
     "duration": 0.039758,
     "end_time": "2022-05-27T07:24:28.463959",
     "exception": false,
     "start_time": "2022-05-27T07:24:28.424201",
     "status": "completed"
    },
    "tags": []
   },
   "source": [
    "Modeli eğitmek için bağımlı bağımsız değişkenlerden oluşturulan eğitim verilerini verelim."
   ]
  },
  {
   "cell_type": "code",
   "execution_count": 27,
   "id": "primary-issue",
   "metadata": {
    "execution": {
     "iopub.execute_input": "2022-05-27T07:24:28.546338Z",
     "iopub.status.busy": "2022-05-27T07:24:28.545878Z",
     "iopub.status.idle": "2022-05-27T07:24:28.569463Z",
     "shell.execute_reply": "2022-05-27T07:24:28.569890Z",
     "shell.execute_reply.started": "2022-05-09T17:49:42.812518Z"
    },
    "papermill": {
     "duration": 0.06624,
     "end_time": "2022-05-27T07:24:28.570032",
     "exception": false,
     "start_time": "2022-05-27T07:24:28.503792",
     "status": "completed"
    },
    "tags": []
   },
   "outputs": [],
   "source": [
    "model = lm.fit(x_train, y_train)"
   ]
  },
  {
   "cell_type": "markdown",
   "id": "blank-management",
   "metadata": {
    "papermill": {
     "duration": 0.039748,
     "end_time": "2022-05-27T07:24:28.649849",
     "exception": false,
     "start_time": "2022-05-27T07:24:28.610101",
     "status": "completed"
    },
    "tags": []
   },
   "source": [
    "Modele daha önce görmediği bağımlı test değişkenini tahmin ettirelim. Bu tahmin değerlerimizi y_pred değişkenine atayalım."
   ]
  },
  {
   "cell_type": "code",
   "execution_count": 28,
   "id": "opposite-sessions",
   "metadata": {
    "execution": {
     "iopub.execute_input": "2022-05-27T07:24:28.733370Z",
     "iopub.status.busy": "2022-05-27T07:24:28.732937Z",
     "iopub.status.idle": "2022-05-27T07:24:28.740054Z",
     "shell.execute_reply": "2022-05-27T07:24:28.740472Z",
     "shell.execute_reply.started": "2022-05-09T17:49:43.217461Z"
    },
    "papermill": {
     "duration": 0.05078,
     "end_time": "2022-05-27T07:24:28.740602",
     "exception": false,
     "start_time": "2022-05-27T07:24:28.689822",
     "status": "completed"
    },
    "tags": []
   },
   "outputs": [
    {
     "data": {
      "text/plain": [
       "array([ 97886.52854489, 100689.59753429,  50766.18448373,  66829.09134734,\n",
       "        46799.45010527, 189232.29587132, 128691.24829828, 170348.90916942,\n",
       "       135737.68395059, 180434.30891561])"
      ]
     },
     "execution_count": 28,
     "metadata": {},
     "output_type": "execute_result"
    }
   ],
   "source": [
    "y_pred = lm.predict(x_test)\n",
    "y_pred"
   ]
  },
  {
   "cell_type": "markdown",
   "id": "placed-pasta",
   "metadata": {
    "papermill": {
     "duration": 0.043698,
     "end_time": "2022-05-27T07:24:28.824456",
     "exception": false,
     "start_time": "2022-05-27T07:24:28.780758",
     "status": "completed"
    },
    "tags": []
   },
   "source": [
    "Tahminleri ve gerçek değerleri bir veri çerçevesinde toplayıp üzerinde göz gezdirelim."
   ]
  },
  {
   "cell_type": "code",
   "execution_count": 29,
   "id": "saving-fashion",
   "metadata": {
    "execution": {
     "iopub.execute_input": "2022-05-27T07:24:28.913677Z",
     "iopub.status.busy": "2022-05-27T07:24:28.913206Z",
     "iopub.status.idle": "2022-05-27T07:24:28.926082Z",
     "shell.execute_reply": "2022-05-27T07:24:28.926475Z",
     "shell.execute_reply.started": "2022-05-09T17:49:43.667303Z"
    },
    "papermill": {
     "duration": 0.058362,
     "end_time": "2022-05-27T07:24:28.926649",
     "exception": false,
     "start_time": "2022-05-27T07:24:28.868287",
     "status": "completed"
    },
    "tags": []
   },
   "outputs": [
    {
     "data": {
      "text/html": [
       "<div>\n",
       "<style scoped>\n",
       "    .dataframe tbody tr th:only-of-type {\n",
       "        vertical-align: middle;\n",
       "    }\n",
       "\n",
       "    .dataframe tbody tr th {\n",
       "        vertical-align: top;\n",
       "    }\n",
       "\n",
       "    .dataframe thead th {\n",
       "        text-align: right;\n",
       "    }\n",
       "</style>\n",
       "<table border=\"1\" class=\"dataframe\">\n",
       "  <thead>\n",
       "    <tr style=\"text-align: right;\">\n",
       "      <th></th>\n",
       "      <th>Gerçek Değerler</th>\n",
       "      <th>Tahmini Değerler</th>\n",
       "    </tr>\n",
       "  </thead>\n",
       "  <tbody>\n",
       "    <tr>\n",
       "      <th>33</th>\n",
       "      <td>96778.92</td>\n",
       "      <td>97886.528545</td>\n",
       "    </tr>\n",
       "    <tr>\n",
       "      <th>29</th>\n",
       "      <td>101004.64</td>\n",
       "      <td>100689.597534</td>\n",
       "    </tr>\n",
       "    <tr>\n",
       "      <th>49</th>\n",
       "      <td>14681.40</td>\n",
       "      <td>50766.184484</td>\n",
       "    </tr>\n",
       "    <tr>\n",
       "      <th>38</th>\n",
       "      <td>81229.06</td>\n",
       "      <td>66829.091347</td>\n",
       "    </tr>\n",
       "    <tr>\n",
       "      <th>45</th>\n",
       "      <td>64926.08</td>\n",
       "      <td>46799.450105</td>\n",
       "    </tr>\n",
       "    <tr>\n",
       "      <th>0</th>\n",
       "      <td>192261.83</td>\n",
       "      <td>189232.295871</td>\n",
       "    </tr>\n",
       "    <tr>\n",
       "      <th>18</th>\n",
       "      <td>124266.90</td>\n",
       "      <td>128691.248298</td>\n",
       "    </tr>\n",
       "    <tr>\n",
       "      <th>4</th>\n",
       "      <td>166187.94</td>\n",
       "      <td>170348.909169</td>\n",
       "    </tr>\n",
       "    <tr>\n",
       "      <th>11</th>\n",
       "      <td>144259.40</td>\n",
       "      <td>135737.683951</td>\n",
       "    </tr>\n",
       "    <tr>\n",
       "      <th>2</th>\n",
       "      <td>191050.39</td>\n",
       "      <td>180434.308916</td>\n",
       "    </tr>\n",
       "  </tbody>\n",
       "</table>\n",
       "</div>"
      ],
      "text/plain": [
       "    Gerçek Değerler  Tahmini Değerler\n",
       "33         96778.92      97886.528545\n",
       "29        101004.64     100689.597534\n",
       "49         14681.40      50766.184484\n",
       "38         81229.06      66829.091347\n",
       "45         64926.08      46799.450105\n",
       "0         192261.83     189232.295871\n",
       "18        124266.90     128691.248298\n",
       "4         166187.94     170348.909169\n",
       "11        144259.40     135737.683951\n",
       "2         191050.39     180434.308916"
      ]
     },
     "execution_count": 29,
     "metadata": {},
     "output_type": "execute_result"
    }
   ],
   "source": [
    "df_comp = pd.DataFrame({'Gerçek Değerler': y_test, 'Tahmini Değerler': y_pred})\n",
    "df_comp"
   ]
  },
  {
   "cell_type": "code",
   "execution_count": 30,
   "id": "alien-pasta",
   "metadata": {
    "execution": {
     "iopub.execute_input": "2022-05-27T07:24:29.014084Z",
     "iopub.status.busy": "2022-05-27T07:24:29.013553Z",
     "iopub.status.idle": "2022-05-27T07:24:29.022923Z",
     "shell.execute_reply": "2022-05-27T07:24:29.023381Z",
     "shell.execute_reply.started": "2022-05-09T17:49:44.049496Z"
    },
    "papermill": {
     "duration": 0.054433,
     "end_time": "2022-05-27T07:24:29.023517",
     "exception": false,
     "start_time": "2022-05-27T07:24:28.969084",
     "status": "completed"
    },
    "tags": []
   },
   "outputs": [
    {
     "data": {
      "text/html": [
       "<div>\n",
       "<style scoped>\n",
       "    .dataframe tbody tr th:only-of-type {\n",
       "        vertical-align: middle;\n",
       "    }\n",
       "\n",
       "    .dataframe tbody tr th {\n",
       "        vertical-align: top;\n",
       "    }\n",
       "\n",
       "    .dataframe thead th {\n",
       "        text-align: right;\n",
       "    }\n",
       "</style>\n",
       "<table border=\"1\" class=\"dataframe\">\n",
       "  <thead>\n",
       "    <tr style=\"text-align: right;\">\n",
       "      <th></th>\n",
       "      <th>Gerçek Değerler</th>\n",
       "      <th>Tahmini Değerler</th>\n",
       "    </tr>\n",
       "  </thead>\n",
       "  <tbody>\n",
       "    <tr>\n",
       "      <th>Gerçek Değerler</th>\n",
       "      <td>1.000000</td>\n",
       "      <td>0.965391</td>\n",
       "    </tr>\n",
       "    <tr>\n",
       "      <th>Tahmini Değerler</th>\n",
       "      <td>0.965391</td>\n",
       "      <td>1.000000</td>\n",
       "    </tr>\n",
       "  </tbody>\n",
       "</table>\n",
       "</div>"
      ],
      "text/plain": [
       "                  Gerçek Değerler  Tahmini Değerler\n",
       "Gerçek Değerler          1.000000          0.965391\n",
       "Tahmini Değerler         0.965391          1.000000"
      ]
     },
     "execution_count": 30,
     "metadata": {},
     "output_type": "execute_result"
    }
   ],
   "source": [
    "df_comp.corr()"
   ]
  },
  {
   "cell_type": "markdown",
   "id": "bronze-profit",
   "metadata": {
    "papermill": {
     "duration": 0.041108,
     "end_time": "2022-05-27T07:24:29.106295",
     "exception": false,
     "start_time": "2022-05-27T07:24:29.065187",
     "status": "completed"
    },
    "tags": []
   },
   "source": [
    "sklearn bünyesinde barınan metrics'i çekirdeğe dahil edelim ve MAE, MSE, RMSE değerlerini görüntüleyelim."
   ]
  },
  {
   "cell_type": "code",
   "execution_count": 31,
   "id": "headed-bones",
   "metadata": {
    "execution": {
     "iopub.execute_input": "2022-05-27T07:24:29.191543Z",
     "iopub.status.busy": "2022-05-27T07:24:29.191095Z",
     "iopub.status.idle": "2022-05-27T07:24:29.198465Z",
     "shell.execute_reply": "2022-05-27T07:24:29.198061Z",
     "shell.execute_reply.started": "2022-05-09T17:49:44.639497Z"
    },
    "papermill": {
     "duration": 0.050831,
     "end_time": "2022-05-27T07:24:29.198563",
     "exception": false,
     "start_time": "2022-05-27T07:24:29.147732",
     "status": "completed"
    },
    "tags": []
   },
   "outputs": [
    {
     "name": "stdout",
     "output_type": "stream",
     "text": [
      "Ortalama Kare Hata (MSE):  207075894.9566509\n"
     ]
    }
   ],
   "source": [
    "from sklearn.metrics import mean_squared_error\n",
    "\n",
    "MSE = mean_squared_error(y_test, y_pred)\n",
    "print(\"Ortalama Kare Hata (MSE): \" , MSE)"
   ]
  },
  {
   "cell_type": "code",
   "execution_count": 32,
   "id": "sixth-wagner",
   "metadata": {
    "execution": {
     "iopub.execute_input": "2022-05-27T07:24:29.286928Z",
     "iopub.status.busy": "2022-05-27T07:24:29.286281Z",
     "iopub.status.idle": "2022-05-27T07:24:29.290587Z",
     "shell.execute_reply": "2022-05-27T07:24:29.291053Z",
     "shell.execute_reply.started": "2022-05-09T17:49:45.310475Z"
    },
    "papermill": {
     "duration": 0.051135,
     "end_time": "2022-05-27T07:24:29.291174",
     "exception": false,
     "start_time": "2022-05-27T07:24:29.240039",
     "status": "completed"
    },
    "tags": []
   },
   "outputs": [
    {
     "name": "stdout",
     "output_type": "stream",
     "text": [
      "Ortalama Mutlak Hata (MAE):  10078.668277189892\n"
     ]
    }
   ],
   "source": [
    "from sklearn.metrics import mean_absolute_error\n",
    "\n",
    "MAE = mean_absolute_error(y_test, y_pred)\n",
    "print(\"Ortalama Mutlak Hata (MAE): \", MAE)"
   ]
  },
  {
   "cell_type": "code",
   "execution_count": 33,
   "id": "solar-foster",
   "metadata": {
    "execution": {
     "iopub.execute_input": "2022-05-27T07:24:29.377832Z",
     "iopub.status.busy": "2022-05-27T07:24:29.377302Z",
     "iopub.status.idle": "2022-05-27T07:24:29.381732Z",
     "shell.execute_reply": "2022-05-27T07:24:29.382173Z",
     "shell.execute_reply.started": "2022-05-09T17:49:45.695822Z"
    },
    "papermill": {
     "duration": 0.050068,
     "end_time": "2022-05-27T07:24:29.382310",
     "exception": false,
     "start_time": "2022-05-27T07:24:29.332242",
     "status": "completed"
    },
    "tags": []
   },
   "outputs": [
    {
     "name": "stdout",
     "output_type": "stream",
     "text": [
      "Kök Ortalama Kare Hatası (RMSE) : 14390.131860294085\n"
     ]
    }
   ],
   "source": [
    "import math\n",
    "\n",
    "RMSE = math.sqrt(MSE)\n",
    "print('Kök Ortalama Kare Hatası (RMSE) :',RMSE )"
   ]
  },
  {
   "cell_type": "markdown",
   "id": "naked-stomach",
   "metadata": {
    "papermill": {
     "duration": 0.042092,
     "end_time": "2022-05-27T07:24:29.467084",
     "exception": false,
     "start_time": "2022-05-27T07:24:29.424992",
     "status": "completed"
    },
    "tags": []
   },
   "source": [
    "Modelin R Squared değerini eğitim verileri üzerinden yazdıralım."
   ]
  },
  {
   "cell_type": "code",
   "execution_count": 34,
   "id": "featured-frequency",
   "metadata": {
    "execution": {
     "iopub.execute_input": "2022-05-27T07:24:29.554459Z",
     "iopub.status.busy": "2022-05-27T07:24:29.553966Z",
     "iopub.status.idle": "2022-05-27T07:24:29.562192Z",
     "shell.execute_reply": "2022-05-27T07:24:29.562695Z",
     "shell.execute_reply.started": "2022-05-09T17:49:46.021167Z"
    },
    "papermill": {
     "duration": 0.053521,
     "end_time": "2022-05-27T07:24:29.562837",
     "exception": false,
     "start_time": "2022-05-27T07:24:29.509316",
     "status": "completed"
    },
    "tags": []
   },
   "outputs": [
    {
     "data": {
      "text/plain": [
       "0.9594857796904854"
      ]
     },
     "execution_count": 34,
     "metadata": {},
     "output_type": "execute_result"
    }
   ],
   "source": [
    "model.score(x_train, y_train)"
   ]
  },
  {
   "cell_type": "code",
   "execution_count": null,
   "id": "civic-request",
   "metadata": {
    "papermill": {
     "duration": 0.043532,
     "end_time": "2022-05-27T07:24:29.649945",
     "exception": false,
     "start_time": "2022-05-27T07:24:29.606413",
     "status": "completed"
    },
    "tags": []
   },
   "outputs": [],
   "source": []
  }
 ],
 "metadata": {
  "kernelspec": {
   "display_name": "Python 3",
   "language": "python",
   "name": "python3"
  },
  "language_info": {
   "codemirror_mode": {
    "name": "ipython",
    "version": 3
   },
   "file_extension": ".py",
   "mimetype": "text/x-python",
   "name": "python",
   "nbconvert_exporter": "python",
   "pygments_lexer": "ipython3",
   "version": "3.7.10"
  },
  "papermill": {
   "default_parameters": {},
   "duration": 20.090281,
   "end_time": "2022-05-27T07:24:31.057829",
   "environment_variables": {},
   "exception": null,
   "input_path": "__notebook__.ipynb",
   "output_path": "__notebook__.ipynb",
   "parameters": {},
   "start_time": "2022-05-27T07:24:10.967548",
   "version": "2.3.3"
  }
 },
 "nbformat": 4,
 "nbformat_minor": 5
}
